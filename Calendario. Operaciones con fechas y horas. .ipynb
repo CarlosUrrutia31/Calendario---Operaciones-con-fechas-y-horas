{
 "cells": [
  {
   "cell_type": "markdown",
   "id": "8b49332b",
   "metadata": {},
   "source": [
    "### Calendario de 2022"
   ]
  },
  {
   "cell_type": "code",
   "execution_count": 11,
   "id": "e7e4b468",
   "metadata": {},
   "outputs": [
    {
     "name": "stdout",
     "output_type": "stream",
     "text": [
      "                   2022\n",
      "\n",
      "      January               February\n",
      "Mo Tu We Th Fr Sa Su  Mo Tu We Th Fr Sa Su\n",
      "                1  2      1  2  3  4  5  6\n",
      " 3  4  5  6  7  8  9   7  8  9 10 11 12 13\n",
      "10 11 12 13 14 15 16  14 15 16 17 18 19 20\n",
      "17 18 19 20 21 22 23  21 22 23 24 25 26 27\n",
      "24 25 26 27 28 29 30  28\n",
      "31\n",
      "\n",
      "       March                 April\n",
      "Mo Tu We Th Fr Sa Su  Mo Tu We Th Fr Sa Su\n",
      "    1  2  3  4  5  6               1  2  3\n",
      " 7  8  9 10 11 12 13   4  5  6  7  8  9 10\n",
      "14 15 16 17 18 19 20  11 12 13 14 15 16 17\n",
      "21 22 23 24 25 26 27  18 19 20 21 22 23 24\n",
      "28 29 30 31           25 26 27 28 29 30\n",
      "\n",
      "        May                   June\n",
      "Mo Tu We Th Fr Sa Su  Mo Tu We Th Fr Sa Su\n",
      "                   1         1  2  3  4  5\n",
      " 2  3  4  5  6  7  8   6  7  8  9 10 11 12\n",
      " 9 10 11 12 13 14 15  13 14 15 16 17 18 19\n",
      "16 17 18 19 20 21 22  20 21 22 23 24 25 26\n",
      "23 24 25 26 27 28 29  27 28 29 30\n",
      "30 31\n",
      "\n",
      "        July                 August\n",
      "Mo Tu We Th Fr Sa Su  Mo Tu We Th Fr Sa Su\n",
      "             1  2  3   1  2  3  4  5  6  7\n",
      " 4  5  6  7  8  9 10   8  9 10 11 12 13 14\n",
      "11 12 13 14 15 16 17  15 16 17 18 19 20 21\n",
      "18 19 20 21 22 23 24  22 23 24 25 26 27 28\n",
      "25 26 27 28 29 30 31  29 30 31\n",
      "\n",
      "     September              October\n",
      "Mo Tu We Th Fr Sa Su  Mo Tu We Th Fr Sa Su\n",
      "          1  2  3  4                  1  2\n",
      " 5  6  7  8  9 10 11   3  4  5  6  7  8  9\n",
      "12 13 14 15 16 17 18  10 11 12 13 14 15 16\n",
      "19 20 21 22 23 24 25  17 18 19 20 21 22 23\n",
      "26 27 28 29 30        24 25 26 27 28 29 30\n",
      "                      31\n",
      "\n",
      "      November              December\n",
      "Mo Tu We Th Fr Sa Su  Mo Tu We Th Fr Sa Su\n",
      "    1  2  3  4  5  6            1  2  3  4\n",
      " 7  8  9 10 11 12 13   5  6  7  8  9 10 11\n",
      "14 15 16 17 18 19 20  12 13 14 15 16 17 18\n",
      "21 22 23 24 25 26 27  19 20 21 22 23 24 25\n",
      "28 29 30              26 27 28 29 30 31\n",
      "\n"
     ]
    }
   ],
   "source": [
    "print(calendar.TextCalendar(calendar.MONDAY).formatyear(2022, \n",
    "                                                            2, 1, 1, 2))"
   ]
  },
  {
   "cell_type": "code",
   "execution_count": 12,
   "id": "e573d2d6",
   "metadata": {},
   "outputs": [],
   "source": [
    "from datetime import datetime, date, time, timedelta\n",
    "import calendar"
   ]
  },
  {
   "cell_type": "markdown",
   "id": "5cd0a573",
   "metadata": {},
   "source": [
    "### Mostrar fecha y hora (datetime)"
   ]
  },
  {
   "cell_type": "code",
   "execution_count": 13,
   "id": "e88a35d8",
   "metadata": {},
   "outputs": [
    {
     "name": "stdout",
     "output_type": "stream",
     "text": [
      "Fecha y Hora: 2022-02-22 12:53:07.590856\n",
      "Fecha y Hora UTC: 2022-02-22 11:53:07.590856\n",
      "Día: 22\n",
      "Mes: 2\n",
      "Año: 2022\n",
      "Hora: 12\n",
      "Minutos: 53\n",
      "Segundos: 7\n"
     ]
    }
   ],
   "source": [
    "ahora = datetime.now()  # Obtiene fecha y hora actual\n",
    "\n",
    "# Muestra fecha y hora\n",
    "print(\"Fecha y Hora:\", ahora)\n",
    "\n",
    "# Muestra fecha/hora UTC\n",
    "print(\"Fecha y Hora UTC:\",ahora.utcnow())\n",
    "\n",
    "# Muestra día\n",
    "print(\"Día:\",ahora.day)\n",
    "\n",
    "# Muestra mes\n",
    "print(\"Mes:\",ahora.month)\n",
    "\n",
    "# Muestra año\n",
    "print(\"Año:\",ahora.year)\n",
    "\n",
    "# Muestra hora\n",
    "print(\"Hora:\", ahora.hour)\n",
    "\n",
    "# Muestra minuto\n",
    "print(\"Minutos:\",ahora.minute)\n",
    "\n",
    "# Muestra segundo\n",
    "print(\"Segundos:\", ahora.second)"
   ]
  },
  {
   "cell_type": "markdown",
   "id": "1da824b0",
   "metadata": {},
   "source": [
    "### Comparando fechas y horas (datetime, date)"
   ]
  },
  {
   "cell_type": "code",
   "execution_count": 14,
   "id": "c0c5bd01",
   "metadata": {},
   "outputs": [
    {
     "name": "stdout",
     "output_type": "stream",
     "text": [
      "Horas:\n",
      "\tHora1: 10:05:00\n",
      "\tHora2: 23:15:00\n",
      "\tHora1 < Hora2: True\n",
      "Fechas:\n",
      "\tFecha1: 2022-02-22\n",
      "\tFecha2: 2022-02-24\n",
      "\tFecha1 > Fecha2: False\n"
     ]
    }
   ],
   "source": [
    "print(\"Horas:\")\n",
    "hora1 = time(10, 5, 0)  # Asigna 10h 5m 0s\n",
    "print(\"\\tHora1:\", hora1)\n",
    "hora2 = time(23, 15, 0)  # Asigna 23h 15m 0s\n",
    "print(\"\\tHora2:\", hora2)\n",
    "\n",
    "# Compara horas\n",
    "print(\"\\tHora1 < Hora2:\", hora1 < hora2)  # True\n",
    "\n",
    "print(\"Fechas:\")\n",
    "fecha1 = date.today()  # Asigna fecha actual\n",
    "print(\"\\tFecha1:\", fecha1)\n",
    "\n",
    "# Suma a la fecha actual 2 días\n",
    "fecha2 = date.today() + timedelta(days=2)\n",
    "print(\"\\tFecha2:\", fecha2)\n",
    "\n",
    "# Compara fechas\n",
    "print(\"\\tFecha1 > Fecha2:\", fecha1 > fecha2)  # False"
   ]
  }
 ],
 "metadata": {
  "kernelspec": {
   "display_name": "Python 3 (ipykernel)",
   "language": "python",
   "name": "python3"
  },
  "language_info": {
   "codemirror_mode": {
    "name": "ipython",
    "version": 3
   },
   "file_extension": ".py",
   "mimetype": "text/x-python",
   "name": "python",
   "nbconvert_exporter": "python",
   "pygments_lexer": "ipython3",
   "version": "3.9.7"
  }
 },
 "nbformat": 4,
 "nbformat_minor": 5
}
